{
  "cells": [
    {
      "cell_type": "markdown",
      "metadata": {},
      "source": [
        "# Basel Capital Engine - Basic Usage\n",
        "\n",
        "This notebook demonstrates the basic usage of the Basel Capital Engine for regulatory capital calculations.\n",
        "\n",
        "## Overview\n",
        "\n",
        "The Basel Capital Engine is an open-source implementation of the Basel III regulatory framework for banking institutions. It provides:\n",
        "\n",
        "- **Risk-Weighted Assets (RWA)** calculations for credit, market, and operational risk\n",
        "- **Capital adequacy ratios** including CET1, Tier 1, and Total Capital ratios\n",
        "- **Regulatory buffers** and breach detection\n",
        "- **Stress testing** capabilities\n",
        "- **Synthetic data generation** for testing and demonstrations\n"
      ]
    },
    {
      "cell_type": "code",
      "execution_count": null,
      "metadata": {},
      "outputs": [],
      "source": [
        "# Import required libraries\n",
        "import sys\n",
        "import os\n",
        "sys.path.append(os.path.dirname(os.getcwd()))\n",
        "\n",
        "import pandas as pd\n",
        "import numpy as np\n",
        "import matplotlib.pyplot as plt\n",
        "import seaborn as sns\n",
        "\n",
        "# Import Basel Engine components\n",
        "from src.basileia import BaselEngine, PortfolioGenerator, Capital, RegulatoryBuffers\n",
        "from src.basileia.simulator.portfolio import BankSize\n",
        "from src.basileia.core.exposure import ExposureType, ExposureClass\n",
        "\n",
        "# Set up plotting\n",
        "plt.style.use('default')\n",
        "sns.set_palette(\"husl\")\n",
        "%matplotlib inline\n"
      ]
    }
  ],
  "metadata": {
    "language_info": {
      "name": "python"
    }
  },
  "nbformat": 4,
  "nbformat_minor": 2
}
