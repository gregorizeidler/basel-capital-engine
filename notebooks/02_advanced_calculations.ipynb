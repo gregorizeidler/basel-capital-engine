{
  "cells": [
    {
      "cell_type": "markdown",
      "metadata": {},
      "source": [
        "# 🏦 Basel Capital Engine - Advanced Calculations\n",
        "\n",
        "This notebook demonstrates advanced portfolio analysis capabilities including:\n",
        "- Complex portfolio structures\n",
        "- Multi-currency exposures\n",
        "- Advanced risk calculations\n",
        "- Sensitivity analysis\n",
        "- Portfolio optimization\n",
        "\n",
        "## 📊 Learning Objectives\n",
        "\n",
        "By the end of this notebook, you will understand:\n",
        "- How to work with complex, realistic portfolios\n",
        "- Advanced RWA calculation techniques\n",
        "- Cross-risk analytics and correlations\n",
        "- Portfolio optimization strategies\n",
        "- Sensitivity analysis and scenario testing\n"
      ]
    },
    {
      "cell_type": "code",
      "execution_count": null,
      "metadata": {},
      "outputs": [],
      "source": [
        "# Import required libraries\n",
        "import sys\n",
        "import os\n",
        "sys.path.append('../src')\n",
        "\n",
        "import numpy as np\n",
        "import pandas as pd\n",
        "import matplotlib.pyplot as plt\n",
        "import seaborn as sns\n",
        "from typing import Dict, List\n",
        "\n",
        "# Basel Capital Engine imports\n",
        "from basileia import (\n",
        "    BaselEngine, PortfolioGenerator, Capital,\n",
        "    IFRS9Calculator, LCRCalculator, ICAAProcessor\n",
        ")\n",
        "from basileia.core.exposure import Exposure, ExposureType, ExposureClass\n",
        "from basileia.core.config import BaselConfig\n",
        "\n",
        "# Set up plotting style\n",
        "plt.style.use('seaborn-v0_8')\n",
        "sns.set_palette(\"husl\")\n",
        "\n",
        "print(\"🏦 Basel Capital Engine - Advanced Calculations\")\n",
        "print(\"=\" * 50)\n"
      ]
    },
    {
      "cell_type": "markdown",
      "metadata": {},
      "source": [
        "## 🎯 1. Complex Portfolio Generation\n",
        "\n",
        "Let's create a sophisticated portfolio with multiple asset classes and risk profiles:\n"
      ]
    },
    {
      "cell_type": "code",
      "execution_count": null,
      "metadata": {},
      "outputs": [],
      "source": [
        "# Generate multiple portfolio segments\n",
        "generator = PortfolioGenerator()\n",
        "\n",
        "# Corporate lending portfolio\n",
        "corporate_portfolio = generator.generate_bank_portfolio(\n",
        "    size=\"large\", \n",
        "    risk_profile=\"conservative\",\n",
        "    focus=\"corporate_lending\"\n",
        ")\n",
        "\n",
        "# Retail banking portfolio\n",
        "retail_portfolio = generator.generate_bank_portfolio(\n",
        "    size=\"medium\",\n",
        "    risk_profile=\"balanced\", \n",
        "    focus=\"retail_banking\"\n",
        ")\n",
        "\n",
        "# Trading portfolio\n",
        "trading_portfolio = generator.generate_bank_portfolio(\n",
        "    size=\"small\",\n",
        "    risk_profile=\"aggressive\",\n",
        "    focus=\"trading\"\n",
        ")\n",
        "\n",
        "print(f\"📊 Portfolio Composition:\")\n",
        "print(f\"Corporate exposures: {len(corporate_portfolio.exposures)}\")\n",
        "print(f\"Retail exposures: {len(retail_portfolio.exposures)}\")\n",
        "print(f\"Trading exposures: {len(trading_portfolio.exposures)}\")\n",
        "\n",
        "# Combine portfolios\n",
        "all_exposures = (corporate_portfolio.exposures + \n",
        "                retail_portfolio.exposures + \n",
        "                trading_portfolio.exposures)\n",
        "\n",
        "from basileia.core.exposure import Portfolio\n",
        "combined_portfolio = Portfolio(exposures=all_exposures)\n",
        "\n",
        "print(f\"Total combined exposures: {len(combined_portfolio.exposures)}\")\n",
        "print(f\"Total portfolio value: €{sum(exp.current_exposure for exp in combined_portfolio.exposures):,.0f}\")\n"
      ]
    }
  ],
  "metadata": {
    "language_info": {
      "name": "python"
    }
  },
  "nbformat": 4,
  "nbformat_minor": 2
}
