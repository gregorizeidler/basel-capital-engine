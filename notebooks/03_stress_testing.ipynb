{
  "cells": [
    {
      "cell_type": "markdown",
      "metadata": {},
      "source": [
        "# 🧪 Basel Capital Engine - Stress Testing Framework\n",
        "\n",
        "This notebook demonstrates comprehensive stress testing capabilities including:\n",
        "- Macroeconomic scenario design\n",
        "- Multi-factor stress scenarios  \n",
        "- Capital impact analysis\n",
        "- Buffer breach identification\n",
        "- Recovery planning\n",
        "\n",
        "## 🎯 Learning Objectives\n",
        "\n",
        "By the end of this notebook, you will understand:\n",
        "- How to design realistic stress scenarios\n",
        "- Multi-dimensional stress testing (credit, market, operational)\n",
        "- Capital adequacy under stress conditions\n",
        "- Regulatory buffer analysis under stress\n",
        "- Management actions and recovery planning\n"
      ]
    },
    {
      "cell_type": "code",
      "execution_count": null,
      "metadata": {},
      "outputs": [],
      "source": [
        "# Import required libraries\n",
        "import sys\n",
        "import os\n",
        "sys.path.append('../src')\n",
        "\n",
        "import numpy as np\n",
        "import pandas as pd\n",
        "import matplotlib.pyplot as plt\n",
        "import seaborn as sns\n",
        "import plotly.graph_objects as go\n",
        "import plotly.express as px\n",
        "from plotly.subplots import make_subplots\n",
        "\n",
        "# Basel Capital Engine imports\n",
        "from basileia import BaselEngine, PortfolioGenerator, Capital\n",
        "from basileia.stress import StressTestEngine, get_scenario, list_available_scenarios\n",
        "from basileia.core.config import BaselConfig\n",
        "\n",
        "# Set up plotting\n",
        "plt.style.use('seaborn-v0_8')\n",
        "sns.set_palette(\"viridis\")\n",
        "\n",
        "print(\"🧪 Basel Capital Engine - Stress Testing Framework\")\n",
        "print(\"=\" * 55)\n",
        "print(f\"Available scenarios: {list_available_scenarios()}\")\n"
      ]
    },
    {
      "cell_type": "markdown",
      "metadata": {},
      "source": [
        "## 🌊 1. Baseline Portfolio Setup\n",
        "\n",
        "First, let's create a representative portfolio and establish baseline metrics:\n"
      ]
    },
    {
      "cell_type": "code",
      "execution_count": null,
      "metadata": {},
      "outputs": [],
      "source": [
        "# Generate baseline portfolio\n",
        "generator = PortfolioGenerator()\n",
        "portfolio = generator.generate_bank_portfolio(size=\"large\", risk_profile=\"balanced\")\n",
        "\n",
        "# Define capital structure\n",
        "capital = Capital(\n",
        "    common_shares=2_500_000,\n",
        "    retained_earnings=1_200_000,\n",
        "    accumulated_oci=-100_000,\n",
        "    at1_instruments=500_000,\n",
        "    t2_instruments=600_000,\n",
        "    goodwill=150_000,\n",
        "    intangible_assets=75_000\n",
        ")\n",
        "\n",
        "# Calculate baseline metrics\n",
        "basel_engine = BaselEngine()\n",
        "baseline_results = basel_engine.calculate_all_metrics(portfolio, capital)\n",
        "\n",
        "print(\"📊 Baseline Metrics:\")\n",
        "print(f\"CET1 Ratio: {baseline_results.cet1_ratio:.2%}\")\n",
        "print(f\"Tier 1 Ratio: {baseline_results.tier1_ratio:.2%}\")\n",
        "print(f\"Total Capital Ratio: {baseline_results.total_capital_ratio:.2%}\")\n",
        "print(f\"Total RWA: €{baseline_results.total_rwa:,.0f}\")\n",
        "print(f\"Leverage Ratio: {getattr(baseline_results, 'leverage_ratio', 0.05):.2%}\")\n",
        "\n",
        "# Check regulatory compliance\n",
        "print(\"\\n✅ Regulatory Compliance Check:\")\n",
        "print(f\"CET1 ≥ 4.5%: {'✅' if baseline_results.cet1_ratio >= 0.045 else '❌'}\")\n",
        "print(f\"Tier 1 ≥ 6.0%: {'✅' if baseline_results.tier1_ratio >= 0.06 else '❌'}\")\n",
        "print(f\"Total ≥ 8.0%: {'✅' if baseline_results.total_capital_ratio >= 0.08 else '❌'}\")\n"
      ]
    }
  ],
  "metadata": {
    "language_info": {
      "name": "python"
    }
  },
  "nbformat": 4,
  "nbformat_minor": 2
}
